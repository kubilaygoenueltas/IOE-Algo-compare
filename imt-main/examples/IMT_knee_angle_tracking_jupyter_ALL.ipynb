{
 "cells": [
  {
   "cell_type": "code",
   "execution_count": 1,
   "metadata": {},
   "outputs": [],
   "source": [
    "import numpy as np\n",
    "import qmt\n",
    "import imt\n",
    "import matplotlib.pyplot as plt\n",
    "import pandas as pd\n",
    "import quaternion_angle as qa\n",
    "from pathlib import Path\n",
    "import os"
   ]
  },
  {
   "cell_type": "code",
   "execution_count": 2,
   "metadata": {},
   "outputs": [],
   "source": [
    "# LOAD DATA\n",
    "path_data = \"../../Daten/\"\n",
    "folder_data_imu = path_data + \"Dict_Frames/\"\n",
    "folder_data_cam = path_data + \"Knee_angle2d/\"\n",
    "filenames_imu = [str(f) for f in Path(folder_data_imu).rglob('*') if f.is_file()]  # all filnames in array\n",
    "filenames_cam = [str(f) for f in Path(folder_data_cam).rglob('*') if f.is_file()]\n",
    "sensors = [\"S0333\", \"S1094\", \"S0593\", \"S0994\", \"S0477\"] \n",
    "sequences = pd.read_csv(path_data + \"sequences.txt\", delimiter=\"\\t\", header=None, index_col=0)\n",
    "# 1 und 41 ohne Sternum,25 rot, 26 S0194 fehlt, 53 keine Kamera datei, 35 S0994 fehlt, 18 fehlt, ab 54]\n",
    "seq_cam_start = sequences.iloc[:, 0:1].values.ravel()  # CAM start frame\n",
    "seq_imu_start = sequences.iloc[:, 1:2].values.ravel()   # IMU start frame\n",
    "seq_names = sequences.index.values              # Sequenz Namen\n",
    "Hz_imu = 52\n",
    "Hz_cam = 30 # Kamera sample Rate\n",
    "Hz_ring = 100"
   ]
  },
  {
   "cell_type": "code",
   "execution_count": null,
   "metadata": {},
   "outputs": [
    {
     "name": "stdout",
     "output_type": "stream",
     "text": [
      "`crop_tail`: Crop off at t=177.15384615384616s\n",
      "`crop_tail`: Crop off at t=181.15384615384616s\n",
      "`crop_tail`: Crop off at t=180.6153846153846s\n",
      "`crop_tail`: Crop off at t=199.98076923076923s\n",
      "`crop_tail`: Crop off at t=124.61538461538461s\n",
      "`crop_tail`: Crop off at t=219.07692307692307s\n",
      "`crop_tail`: Crop off at t=184.0s\n",
      "`crop_tail`: Crop off at t=183.30769230769232s\n",
      "`crop_tail`: Crop off at t=199.84615384615384s\n",
      "`crop_tail`: Crop off at t=179.69230769230768s\n",
      "`crop_tail`: Crop off at t=185.92307692307693s\n",
      "`crop_tail`: Crop off at t=180.07692307692307s\n",
      "`crop_tail`: Crop off at t=185.46153846153845s\n",
      "`crop_tail`: Crop off at t=110.0s\n",
      "`crop_tail`: Crop off at t=181.92307692307693s\n",
      "`crop_tail`: Crop off at t=182.3846153846154s\n",
      "`crop_tail`: Crop off at t=205.53846153846155s\n",
      "`crop_tail`: Crop off at t=184.67307692307693s\n",
      "`crop_tail`: Crop off at t=180.30769230769232s\n",
      "`crop_tail`: Crop off at t=179.53846153846155s\n",
      "`crop_tail`: Crop off at t=192.23076923076923s\n",
      "`crop_tail`: Crop off at t=181.46153846153845s\n",
      "`crop_tail`: Crop off at t=181.0s\n",
      "`crop_tail`: Crop off at t=183.23076923076923s\n",
      "`crop_tail`: Crop off at t=190.23076923076923s\n",
      "`crop_tail`: Crop off at t=186.0s\n",
      "`crop_tail`: Crop off at t=182.15384615384616s\n",
      "`crop_tail`: Crop off at t=183.6153846153846s\n",
      "`crop_tail`: Crop off at t=180.07692307692307s\n",
      "`crop_tail`: Crop off at t=182.76923076923077s\n",
      "`crop_tail`: Crop off at t=184.07692307692307s\n",
      "`crop_tail`: Crop off at t=180.76923076923077s\n",
      "`crop_tail`: Crop off at t=105.0s\n",
      "`crop_tail`: Crop off at t=89.84615384615384s\n",
      "`crop_tail`: Crop off at t=180.92307692307693s\n",
      "`crop_tail`: Crop off at t=149.15384615384616s\n",
      "`crop_tail`: Crop off at t=197.73076923076923s\n"
     ]
    }
   ],
   "source": [
    "qhat_all = []\n",
    "extras_all = []\n",
    "#angle_kr_all = []\n",
    "#angle_kl_all =\n",
    "qa_kr_all = []\n",
    "qa_kl_all = []\n",
    "ts_ring_all = []\n",
    "\n",
    "for i_seq in range(len(filenames_imu)):\n",
    "    # LOAD DATA\n",
    "    data_imu_seq = np.load(filenames_imu[i_seq], allow_pickle=True).item()\n",
    "\n",
    "    # PREPARE DATA\n",
    "    imu_data = {\n",
    "        i: dict(acc=data_imu_seq[sensors[i]][\"acc\"][seq_imu_start[i_seq]:], gyr=data_imu_seq[sensors[i]][\"gyr_rad\"][seq_imu_start[i_seq]:])\n",
    "        for i in range(len(sensors))  \n",
    "        }\n",
    "    imu_data = imt.utils.resample(imt.utils.crop_tail(imu_data, Hz_imu), Hz_imu, Hz_ring)\n",
    "\n",
    "    imu_data[0] = dict(\n",
    "        acc=qmt.rotate(qmt.quatFromAngleAxis(-np.pi, [0, 0, 1]), imu_data[0][\"acc\"]),\n",
    "        gyr=qmt.rotate(qmt.quatFromAngleAxis(-np.pi, [0, 0, 1]), imu_data[0][\"gyr\"]),\n",
    "    )\n",
    "    \n",
    "    # ESTIMATE ORIENTATIONS\n",
    "    rel_method = imt.methods.RING(axes_directions=np.array([1.0, 0, 0]))\n",
    "    graph = [-1, 0, 1, 0, 3]\n",
    "    solver = imt.Solver(graph, [imt.methods.VQF(offline=True)] +\n",
    "                        #[imt.wrappers.JointTracker1D(rel_method)]*4, \n",
    "                        [rel_method]*4, \n",
    "                        Ts=1/Hz_ring)\n",
    "    qhat, extras = solver.step(imu_data)\n",
    "    qhat_all.append(qhat)\n",
    "    extras_all.append(extras)\n",
    "\n",
    "    q1 = qhat[1]\n",
    "    q2 = qhat[2] \n",
    "    q3 = qhat[3] \n",
    "    q4 = qhat[4] \n",
    "    # Compute angles\n",
    "    qa_kr = qa.quaternion_angle(q1, q2)\n",
    "    qa_kl = qa.quaternion_angle(q3, q4)  \n",
    "\n",
    "    # Extract timesteps\n",
    "    T = qhat[0].shape[0]\n",
    "    ts = np.round(np.arange(T)/Hz_ring, 2)\n",
    "\n",
    "    # Extract measruement values if JointTracker1d is used\n",
    "    #angle_kr = -np.rad2deg(extras[2][\"joint_angle_rad\"])\n",
    "    #angle_kl = -np.rad2deg(extras[4][\"joint_angle_rad\"]) \n",
    "\n",
    "    #angle_kr_all.append(angle_kr)\n",
    "    #angle_kl_all.append(angle_kl)\n",
    "    qa_kr_all.append(qa_kr)\n",
    "    qa_kl_all.append(qa_kl)\n",
    "    ts_ring_all.append(ts)"
   ]
  },
  {
   "cell_type": "code",
   "execution_count": null,
   "metadata": {},
   "outputs": [
    {
     "ename": "NameError",
     "evalue": "name 'filenames_imu' is not defined",
     "output_type": "error",
     "traceback": [
      "\u001b[1;31m---------------------------------------------------------------------------\u001b[0m",
      "\u001b[1;31mNameError\u001b[0m                                 Traceback (most recent call last)",
      "Cell \u001b[1;32mIn[2], line 6\u001b[0m\n\u001b[0;32m      3\u001b[0m angle_cam_kl_all \u001b[38;5;241m=\u001b[39m []\n\u001b[0;32m      4\u001b[0m ts_cam_all \u001b[38;5;241m=\u001b[39m []\n\u001b[1;32m----> 6\u001b[0m \u001b[38;5;28;01mfor\u001b[39;00m i_seq \u001b[38;5;129;01min\u001b[39;00m \u001b[38;5;28mrange\u001b[39m(\u001b[38;5;28mlen\u001b[39m(\u001b[43mfilenames_imu\u001b[49m)):\n\u001b[0;32m      7\u001b[0m     data_cam_both_seq \u001b[38;5;241m=\u001b[39m np\u001b[38;5;241m.\u001b[39mloadtxt(filenames_cam[i_seq], delimiter\u001b[38;5;241m=\u001b[39m\u001b[38;5;124m\"\u001b[39m\u001b[38;5;124m,\u001b[39m\u001b[38;5;124m\"\u001b[39m) \u001b[38;5;66;03m# Kniewinkel aus Videodaten beide Beine\u001b[39;00m\n\u001b[0;32m      8\u001b[0m     data_cam_kr_seq \u001b[38;5;241m=\u001b[39m data_cam_both_seq[:,\u001b[38;5;241m1\u001b[39m][seq_cam_start[i_seq]:]      \u001b[38;5;66;03m# [:,1] nur Knie rechts, [:,0] nur Knie links\u001b[39;00m\n",
      "\u001b[1;31mNameError\u001b[0m: name 'filenames_imu' is not defined"
     ]
    }
   ],
   "source": [
    "# CAM DATA\n",
    "cam_kr_all = []\n",
    "cam_kl_all = []\n",
    "ts_cam_all = []\n",
    "\n",
    "for i_seq in range(len(filenames_imu)):\n",
    "    data_cam_both_seq = np.loadtxt(filenames_cam[i_seq], delimiter=\",\") # Kniewinkel aus Videodaten beide Beine\n",
    "    data_cam_kr_seq = data_cam_both_seq[:,1][seq_cam_start[i_seq]:]      # [:,1] nur Knie rechts, [:,0] nur Knie links\n",
    "    data_cam_kl_seq = data_cam_both_seq[:,0][seq_cam_start[i_seq]:]      # [i:] alles vor index i entfernen\n",
    "\n",
    "    ts_cam = np.round(np.arange(len(data_cam_kr_seq))*(1/Hz_cam), 2) # timesteps for camera data with camera sample rate\n",
    "    cam_kr_all.append(data_cam_kr_seq)\n",
    "    cam_kl_all.append(data_cam_kl_seq)\n",
    "    ts_cam_all.append(ts_cam)\n"
   ]
  },
  {
   "cell_type": "code",
   "execution_count": null,
   "metadata": {},
   "outputs": [],
   "source": [
    "# RAW IMU DATA\n",
    "imu_data_all = []\n",
    "ts_imu_all =[]\n",
    "\n",
    "for i_seq in range(len(filenames_imu)):\n",
    "    # LOAD DATA\n",
    "    data_imu_seq = np.load(filenames_imu[i_seq], allow_pickle=True).item()\n",
    "\n",
    "    # PREPARE DATA\n",
    "    imu_data = {\n",
    "        i: dict(acc=data_imu_seq[sensors[i]][\"acc\"][seq_imu_start[i_seq]:], gyr=data_imu_seq[sensors[i]][\"gyr_rad\"][seq_imu_start[i_seq]:])\n",
    "        for i in range(len(sensors))\n",
    "        }\n",
    "    imu_data = imt.utils.crop_tail(imu_data, 52)\n",
    "\n",
    "    imu_data[0] = dict(\n",
    "        acc=qmt.rotate(qmt.quatFromAngleAxis(-np.pi, [0, 0, 1]), imu_data[0][\"acc\"]),\n",
    "        gyr=qmt.rotate(qmt.quatFromAngleAxis(-np.pi, [0, 0, 1]), imu_data[0][\"gyr\"]),\n",
    "    )\n",
    "\n",
    "    ts_imu = np.round(np.arange(len(imu_data[0][\"acc\"]))*(1/Hz_imu), 2) # timesteps for imu data with imu sample rate\n",
    "\n",
    "    imu_data_all.append(imu_data)\n",
    "    ts_imu_all.append(ts_imu)\n",
    "\n",
    "# Prepare dataset for machine learning algorithms by dewrapping arrays\n",
    "S0333_acc = np.vstack([entry[0]['acc'] for entry in imu_data_all])\n",
    "S0333_gyr = np.vstack([entry[0]['gyr'] for entry in imu_data_all])\n",
    "S1094_acc = np.vstack([entry[1]['acc'] for entry in imu_data_all])\n",
    "S1094_gyr = np.vstack([entry[1]['gyr'] for entry in imu_data_all])\n",
    "S0593_acc = np.vstack([entry[2]['acc'] for entry in imu_data_all])\n",
    "S0593_gyr = np.vstack([entry[2]['gyr'] for entry in imu_data_all])\n",
    "S0994_acc = np.vstack([entry[3]['acc'] for entry in imu_data_all])\n",
    "S0994_gyr = np.vstack([entry[3]['gyr'] for entry in imu_data_all])\n",
    "S0477_acc = np.vstack([entry[4]['acc'] for entry in imu_data_all])\n",
    "S0477_gyr = np.vstack([entry[4]['gyr'] for entry in imu_data_all])\n",
    "imu_data_ml = np.hstack((S0333_acc, S0333_gyr, S1094_acc, S1094_gyr, S0593_acc, S0593_gyr, S0994_acc, S0994_gyr, S0477_acc, S0477_gyr))"
   ]
  },
  {
   "cell_type": "code",
   "execution_count": null,
   "metadata": {},
   "outputs": [],
   "source": [
    "#### RESAMPLING DATA to IMU FREQUENCY\n",
    "qa_kr_resample_all = []\n",
    "qa_kl_resample_all = []\n",
    "cam_kr_resample_all = []\n",
    "cam_kl_resample_all = []\n",
    "ts_ring_resample_all = []\n",
    "ts_cam_resample_all = []\n",
    "\n",
    "for i in range(len(filenames_imu)):\n",
    "    factor_ring = Hz_ring/Hz_imu\n",
    "    factor_cam = Hz_cam/Hz_imu\n",
    "\n",
    "    indices_ring = np.round(np.arange(0, len(ts_ring_all[i]), factor_ring), 1)  # Select every nth index\n",
    "    indices_cam = np.round(np.arange(0, len(ts_cam_all[i]), factor_ring), 1)  # Select every nth index\n",
    "\n",
    "    ts_ring_resample = np.round(np.interp(indices_ring, np.arange(len(ts_ring_all[i])), ts_ring_all[i]), 2)\n",
    "    ts_cam_resample = np.round(np.interp(indices_cam, np.arange(len(ts_cam_all[i])), ts_ring_all[i]), 2)\n",
    "    #angle_kr_resample = np.interp(indices, np.arange(len(ts)), angle_kr)\n",
    "    #angle_kl_resample = np.interp(indices, np.arange(len(ts)), angle_kl)\n",
    "    qa_kr_resample = np.interp(indices_ring, np.arange(len(ts_ring_all[i])), qa_kr_all[i])  \n",
    "    qa_kl_resample = np.interp(indices_ring, np.arange(len(ts_ring_all[i])), qa_kl_all[i]) \n",
    "    cam_kr_resample = np.interp(indices_cam, np.arange(len(ts_cam_all[i])), cam_kr_all[i])  \n",
    "    cam_kl_resample = np.interp(indices_cam, np.arange(len(ts_cam_all[i])), cam_kl_all[i]) \n",
    "\n",
    "    qa_kr_resample_all.append(qa_kr_resample)\n",
    "    qa_kl_resample_all.append(qa_kl_resample)\n",
    "    cam_kr_resample_all.append(cam_kr_resample)\n",
    "    cam_kl_resample_all.append(cam_kl_resample)\n",
    "    ts_ring_resample_all.append(ts_ring_resample)\n",
    "    ts_cam_resample_all.append(ts_cam_resample)"
   ]
  },
  {
   "cell_type": "code",
   "execution_count": null,
   "metadata": {},
   "outputs": [],
   "source": [
    "\n",
    "ring_angles_kl_52Hz_i = imt.utils.resample(ring_angles_kl[i], Hz_cam, Hz)\n",
    "ring_angles_kl_52Hz.append(ring_angles_kl_52Hz_i)\n",
    "#ring_angles_kr_52Hz = imt.utils.resample(imt.utils.crop_tail(ring_angles_kr, Hz_cam), Hz_cam, Hz)\n",
    "#cam_angles_kl_52Hz = imt.utils.resample(imt.utils.crop_tail(cam_angles_kl, Hz_cam), Hz_cam, Hz)\n",
    "##cam_angles_kr_52Hz = imt.utils.resample(imt.utils.crop_tail(cam_angles_kr, Hz_cam), Hz_cam, Hz)"
   ]
  },
  {
   "cell_type": "code",
   "execution_count": null,
   "metadata": {},
   "outputs": [
    {
     "name": "stdout",
     "output_type": "stream",
     "text": [
      "Saved successfully to: ./results\n"
     ]
    }
   ],
   "source": [
    "# SAVE RESULTS RING\n",
    "path_results = \"./results\" \n",
    "os.makedirs(path_results, exist_ok=True) # check if directory exists\n",
    "np.save(os.path.join(path_results, \"Angles_IMU_RING_Knee_Left.npy\"), np.array(qa_kl_all, dtype=object))  # Save files to results path\n",
    "np.save(os.path.join(path_results, \"Angles_IMU_RING_Knee_Right.npy\"), np.array(qa_kr_all, dtype=object))\n",
    "np.save(os.path.join(path_results, \"Timesteps_RING.npy\"), np.array(ts_ring_all, dtype=object))\n",
    "np.save(os.path.join(path_results, \"Angles_IMU_RING_Knee_Left_52.npy\"), np.array(qa_kl_resample_all, dtype=object))  # Save files to results path\n",
    "np.save(os.path.join(path_results, \"Angles_IMU_RING_Knee_Right_52.npy\"), np.array(qa_kr_resample_all, dtype=object))\n",
    "np.save(os.path.join(path_results, \"Timesteps_RING_52.npy\"), np.array(ts_ring_resample_all, dtype=object))\n",
    "np.save(os.path.join(path_results, \"Sequences_names.npy\"), np.array(seq_names, dtype=object))"
   ]
  },
  {
   "cell_type": "code",
   "execution_count": null,
   "metadata": {},
   "outputs": [
    {
     "name": "stdout",
     "output_type": "stream",
     "text": [
      "Saved successfully to: ./results\n"
     ]
    }
   ],
   "source": [
    "# SAVE RESULTS CAM\n",
    "np.save(os.path.join(path_results, \"Angles_CAM_Knee_Left.npy\"), np.array(cam_kl_all, dtype=object))\n",
    "np.save(os.path.join(path_results, \"Angles_CAM_Knee_Right.npy\"), np.array(cam_kr_all, dtype=object))\n",
    "np.save(os.path.join(path_results, \"Timesteps_CAM.npy\"), np.array(ts_cam_all, dtype=object))\n",
    "np.save(os.path.join(path_results, \"Angles_CAM_Knee_Left_52.npy\"), np.array(cam_kl_resample_all, dtype=object))\n",
    "np.save(os.path.join(path_results, \"Angles_CAM_Knee_Right_52.npy\"), np.array(cam_kr_resample_all, dtype=object))\n",
    "np.save(os.path.join(path_results, \"Timesteps_CAM_52.npy\"), np.array(ts_cam_resample_all, dtype=object))"
   ]
  },
  {
   "cell_type": "code",
   "execution_count": null,
   "metadata": {},
   "outputs": [],
   "source": [
    "# SAVE RESULTS RAW IMU\n",
    "np.save(os.path.join(path_results, \"IMU_data_ml.npy\"), np.array(imu_data_ml, dtype=object))\n",
    "np.save(os.path.join(path_results, \"IMU_data_all.npy\"), np.array(imu_data_all, dtype=object))"
   ]
  },
  {
   "cell_type": "code",
   "execution_count": null,
   "metadata": {},
   "outputs": [
    {
     "name": "stdout",
     "output_type": "stream",
     "text": [
      "RMSE: 18.9581\n"
     ]
    }
   ],
   "source": [
    "rmse_value3 = np.sqrt(np.mean((qa_kr_all[1] - cam_kr_all[1][:len(qa_kr_all[1])]) ** 2))\n",
    "print(f\"RMSE: {rmse_value3:.4f}\")"
   ]
  }
 ],
 "metadata": {
  "kernelspec": {
   "display_name": "imt",
   "language": "python",
   "name": "python3"
  },
  "language_info": {
   "codemirror_mode": {
    "name": "ipython",
    "version": 3
   },
   "file_extension": ".py",
   "mimetype": "text/x-python",
   "name": "python",
   "nbconvert_exporter": "python",
   "pygments_lexer": "ipython3",
   "version": "3.13.1"
  }
 },
 "nbformat": 4,
 "nbformat_minor": 2
}
