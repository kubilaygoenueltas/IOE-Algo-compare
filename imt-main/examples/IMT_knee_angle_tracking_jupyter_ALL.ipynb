{
 "cells": [
  {
   "cell_type": "code",
   "execution_count": null,
   "metadata": {},
   "outputs": [],
   "source": [
    "import numpy as np\n",
    "import qmt\n",
    "import imt\n",
    "import matplotlib.pyplot as plt\n",
    "import pandas as pd\n",
    "import quaternion_angle as qa\n",
    "from pathlib import Path\n",
    "import os"
   ]
  },
  {
   "cell_type": "code",
   "execution_count": 18,
   "metadata": {},
   "outputs": [],
   "source": [
    "# LOAD DATA\n",
    "path_data = \"C:/Users/kubil/Documents/STUDIUM/Master/4_Masterarbeit_Code/IOE-Algo-compare/Daten/\"\n",
    "folder_data_imu = path_data + \"Dict_Frames/\"\n",
    "folder_data_cam = path_data + \"Knee_angle2d/\"\n",
    "filenames_imu = [str(f) for f in Path(folder_data_imu).rglob('*') if f.is_file()]  # all filnames in array\n",
    "filenames_cam = [str(f) for f in Path(folder_data_cam).rglob('*') if f.is_file()]\n",
    "sensors = [\"S0333\", \"S1094\", \"S0593\", \"S0994\", \"S0477\"] \n",
    "sequences = pd.read_csv(path_data + \"sequences.txt\", delimiter=\"\\t\", header=None, index_col=0)\n",
    "# 1 und 41 ohne Sternum,25 rot, 26 S0194 fehlt, 53 keine Kamera datei, 35 S0994 fehlt, 18 fehlt, ab 54]\n",
    "seq_cam_start = sequences.iloc[:, 0:1].values.ravel()  # CAM start frame\n",
    "seq_imu_start = sequences.iloc[:, 1:2].values.ravel()   # IMU start frame\n",
    "seq_names = sequences.index.values              # Sequenz Namen\n",
    "seq_filter = np.array([\"S0101\", \"S0125\", \"S0126\", \"S0135_01\", \"S0141_01\", \"S0153_01\"])\n",
    "seq_filter = np.append(seq_filter, seq_names[53:])\n",
    "\n",
    "Hz = 52\n",
    "Hz_resample = 30 # Kamera sample Rate\n",
    "Ts=0.01"
   ]
  },
  {
   "cell_type": "code",
   "execution_count": null,
   "metadata": {},
   "outputs": [
    {
     "name": "stdout",
     "output_type": "stream",
     "text": [
      "`crop_tail`: Crop off at t=177.15384615384616s\n",
      "`crop_tail`: Crop off at t=181.15384615384616s\n",
      "`crop_tail`: Crop off at t=180.6153846153846s\n",
      "`crop_tail`: Crop off at t=199.98076923076923s\n",
      "`crop_tail`: Crop off at t=124.61538461538461s\n",
      "`crop_tail`: Crop off at t=219.07692307692307s\n",
      "`crop_tail`: Crop off at t=184.0s\n",
      "`crop_tail`: Crop off at t=183.30769230769232s\n",
      "`crop_tail`: Crop off at t=199.84615384615384s\n",
      "`crop_tail`: Crop off at t=179.69230769230768s\n",
      "`crop_tail`: Crop off at t=185.92307692307693s\n",
      "`crop_tail`: Crop off at t=180.07692307692307s\n",
      "`crop_tail`: Crop off at t=185.46153846153845s\n",
      "`crop_tail`: Crop off at t=110.0s\n",
      "`crop_tail`: Crop off at t=181.92307692307693s\n",
      "`crop_tail`: Crop off at t=182.3846153846154s\n",
      "`crop_tail`: Crop off at t=205.53846153846155s\n",
      "`crop_tail`: Crop off at t=184.67307692307693s\n",
      "`crop_tail`: Crop off at t=180.30769230769232s\n",
      "`crop_tail`: Crop off at t=179.53846153846155s\n",
      "`crop_tail`: Crop off at t=192.23076923076923s\n",
      "`crop_tail`: Crop off at t=181.46153846153845s\n",
      "`crop_tail`: Crop off at t=181.0s\n",
      "`crop_tail`: Crop off at t=183.23076923076923s\n",
      "`crop_tail`: Crop off at t=190.23076923076923s\n",
      "`crop_tail`: Crop off at t=186.0s\n",
      "`crop_tail`: Crop off at t=182.15384615384616s\n",
      "`crop_tail`: Crop off at t=183.6153846153846s\n",
      "`crop_tail`: Crop off at t=180.07692307692307s\n",
      "`crop_tail`: Crop off at t=182.76923076923077s\n",
      "`crop_tail`: Crop off at t=184.07692307692307s\n",
      "`crop_tail`: Crop off at t=180.76923076923077s\n",
      "`crop_tail`: Crop off at t=105.0s\n",
      "`crop_tail`: Crop off at t=89.84615384615384s\n",
      "`crop_tail`: Crop off at t=180.92307692307693s\n",
      "`crop_tail`: Crop off at t=149.15384615384616s\n",
      "`crop_tail`: Crop off at t=197.73076923076923s\n",
      "`crop_tail`: Crop off at t=97.5s\n",
      "`crop_tail`: Crop off at t=179.3846153846154s\n",
      "`crop_tail`: Crop off at t=183.23076923076923s\n",
      "`crop_tail`: Crop off at t=180.53846153846155s\n",
      "`crop_tail`: Crop off at t=183.07692307692307s\n",
      "`crop_tail`: Crop off at t=215.3846153846154s\n",
      "`crop_tail`: Crop off at t=189.6153846153846s\n",
      "`crop_tail`: Crop off at t=184.92307692307693s\n",
      "`crop_tail`: Crop off at t=190.53846153846155s\n",
      "`crop_tail`: Crop off at t=182.53846153846155s\n"
     ]
    }
   ],
   "source": [
    "qhat_all = []\n",
    "extras_all = []\n",
    "#angle_kr_all = []\n",
    "#angle_kl_all = []\n",
    "qa_kr_all = []\n",
    "qa_kl_all = []\n",
    "angle_cam_kr_all = []\n",
    "angle_cam_kl_all = []\n",
    "ts_resample_all = []\n",
    "ts_camera2d_all = []\n",
    "\n",
    "for i_seq in range(len(filenames_imu)):\n",
    "    # LOAD DATA\n",
    "    data_imu_seq = np.load(filenames_imu[i_seq], allow_pickle=True).item()\n",
    "    data_cam_both_seq = np.loadtxt(filenames_cam[i_seq], delimiter=\",\") # Kniewinkel aus Videodaten beide Beine\n",
    "    data_cam_kr_seq = data_cam_both_seq[:,1][seq_cam_start[i_seq]:]      # [:,1] nur Knie rechts, [:,0] nur Knie links\n",
    "    data_cam_kl_seq = data_cam_both_seq[:,0][seq_cam_start[i_seq]:]      # [i:] alles vor index i entfernen\n",
    "\n",
    "    # PREPARE DATA\n",
    "    imu_data = {\n",
    "        i: dict(acc=data_imu_seq[sensors[i]][\"acc\"][seq_imu_start[i_seq]:], gyr=data_imu_seq[sensors[i]][\"gyr_rad\"][seq_imu_start[i_seq]:])\n",
    "        for i in range(len(sensors))  \n",
    "        }\n",
    "    imu_data = imt.utils.resample(imt.utils.crop_tail(imu_data, Hz), Hz, 1/Ts)\n",
    "\n",
    "    imu_data[0] = dict(\n",
    "        acc=qmt.rotate(qmt.quatFromAngleAxis(-np.pi, [0, 0, 1]), imu_data[0][\"acc\"]),\n",
    "        gyr=qmt.rotate(qmt.quatFromAngleAxis(-np.pi, [0, 0, 1]), imu_data[0][\"gyr\"]),\n",
    "    )\n",
    "    \n",
    "    # ESTIMATE ORIENTATIONS\n",
    "    rel_method = imt.methods.RING(axes_directions=np.array([1.0, 0, 0]))\n",
    "    graph = [-1, 0, 1, 0, 3]\n",
    "    solver = imt.Solver(graph, [imt.methods.VQF(offline=True)] +\n",
    "                        #[imt.wrappers.JointTracker1D(rel_method)]*4, \n",
    "                        [rel_method]*4, \n",
    "                        Ts=Ts)\n",
    "    qhat, extras = solver.step(imu_data)\n",
    "    qhat_all.append(qhat)\n",
    "    extras_all.append(extras)\n",
    "\n",
    "    q1 = qhat[1]\n",
    "    q2 = qhat[2] \n",
    "    q3 = qhat[3] \n",
    "    q4 = qhat[4] \n",
    "    # Compute angles\n",
    "    qa_kr = qa.quaternion_angle(q1, q2)\n",
    "    qa_kl = qa.quaternion_angle(q3, q4)  \n",
    "\n",
    "    # Extract timesteps\n",
    "    T = qhat[0].shape[0]\n",
    "    ts = np.round(np.arange(T)*Ts, 2)\n",
    "    # Extract measruement values\n",
    "    #angle_kr = -np.rad2deg(extras[2][\"joint_angle_rad\"])\n",
    "    #angle_kl = -np.rad2deg(extras[4][\"joint_angle_rad\"])\n",
    "\n",
    "    ts_camera2d = np.round(np.arange(len(data_cam_kr_seq))*(1/Hz_resample), 3) # timesteps for camera data with camera sample rate\n",
    "    # DOWNSAMPLE IMU DATA KNEE ANGLE RATE TO CAMERA SAMPLE RATE\n",
    "    factor = (1/Ts)/Hz_resample\n",
    "    indices = np.round(np.arange(0, len(ts), factor), 1)  # Select every nth index\n",
    "    ts_resample = np.round(np.interp(indices, np.arange(len(ts)), ts), 3)\n",
    "    #angle_kr_resample = np.interp(indices, np.arange(len(ts)), angle_kr)\n",
    "    #angle_kl_resample = np.interp(indices, np.arange(len(ts)), angle_kl)\n",
    "    qa_kr_resample = np.interp(indices, np.arange(len(ts)), qa_kr)  \n",
    "    qa_kl_resample = np.interp(indices, np.arange(len(ts)), qa_kl)  \n",
    "\n",
    "    #angle_kr_all.append(angle_kr_resample)\n",
    "    #angle_kl_all.append(angle_kl_resample)\n",
    "    qa_kr_all.append(qa_kr_resample)\n",
    "    qa_kl_all.append(qa_kl_resample)\n",
    "    angle_cam_kr_all.append(data_cam_kr_seq)\n",
    "    angle_cam_kl_all.append(data_cam_kl_seq)\n",
    "    ts_resample_all.append(ts_resample)\n",
    "    ts_camera2d_all.append(ts_camera2d)"
   ]
  },
  {
   "cell_type": "code",
   "execution_count": 14,
   "metadata": {},
   "outputs": [],
   "source": [
    "# ONLY CAM\n",
    "angle_cam_kr_all = []\n",
    "angle_cam_kl_all = []\n",
    "ts_camera2d_all = []\n",
    "\n",
    "for i_seq in range(len(filenames_imu)):\n",
    "    data_cam_both_seq = np.loadtxt(filenames_cam[i_seq], delimiter=\",\") # Kniewinkel aus Videodaten beide Beine\n",
    "    data_cam_kr_seq = data_cam_both_seq[:,1][seq_cam_start[i_seq]:]      # [:,1] nur Knie rechts, [:,0] nur Knie links\n",
    "    data_cam_kl_seq = data_cam_both_seq[:,0][seq_cam_start[i_seq]:]      # [i:] alles vor index i entfernen\n",
    "\n",
    "    ts_camera2d = np.round(np.arange(len(data_cam_kr_seq))*(1/Hz_resample), 3) # timesteps for camera data with camera sample rate\n",
    "    angle_cam_kr_all.append(data_cam_kr_seq)\n",
    "    angle_cam_kl_all.append(data_cam_kl_seq)\n",
    "    ts_camera2d_all.append(ts_camera2d)\n"
   ]
  },
  {
   "cell_type": "code",
   "execution_count": null,
   "metadata": {},
   "outputs": [
    {
     "name": "stdout",
     "output_type": "stream",
     "text": [
      "Saved successfully to: C:/Users/kubil/Documents/STUDIUM/Master/4_Masterarbeit_Code/IOE-Algo-compare/imt-main/examples/results\n"
     ]
    }
   ],
   "source": [
    "# SAVE RESULTS\n",
    "path_results = \"./results\" \n",
    "os.makedirs(path_results, exist_ok=True) # check if directory exists\n",
    "\n",
    "np.save(os.path.join(path_results, \"Angles_IMU_RING_Knee_Left.npy\"), np.array(qa_kl_all, dtype=object))  # Save files to results path\n",
    "np.save(os.path.join(path_results, \"Angles_IMU_RING_Knee_Right.npy\"), np.array(qa_kr_all, dtype=object))\n",
    "np.save(os.path.join(path_results, \"Angles_CAM_Knee_Left.npy\"), np.array(angle_cam_kl_all, dtype=object))\n",
    "np.save(os.path.join(path_results, \"Angles_CAM_Knee_Right.npy\"), np.array(angle_cam_kr_all, dtype=object))\n",
    "np.save(os.path.join(path_results, \"Timesteps_RING.npy\"), np.array(ts_resample_all, dtype=object))\n",
    "np.save(os.path.join(path_results, \"Timesteps_CAM.npy\"), np.array(ts_camera2d_all, dtype=object))\n",
    "np.save(os.path.join(path_results, \"Sequences_filter.npy\"), np.array(seq_filter, dtype=object))\n",
    "np.save(os.path.join(path_results, \"Sequences_names.npy\"), np.array(seq_names, dtype=object))\n",
    "print(f\"Saved successfully to: {path_results}\")"
   ]
  },
  {
   "cell_type": "code",
   "execution_count": 19,
   "metadata": {},
   "outputs": [
    {
     "name": "stdout",
     "output_type": "stream",
     "text": [
      "Saved successfully to: ./results\n"
     ]
    }
   ],
   "source": [
    "# SAVE RESULTS ONLY CAM\n",
    "path_results = \"./results\" \n",
    "os.makedirs(path_results, exist_ok=True) # check if directory exists\n",
    "\n",
    "np.save(os.path.join(path_results, \"Angles_CAM_Knee_Left.npy\"), np.array(angle_cam_kl_all, dtype=object))\n",
    "np.save(os.path.join(path_results, \"Angles_CAM_Knee_Right.npy\"), np.array(angle_cam_kr_all, dtype=object))\n",
    "np.save(os.path.join(path_results, \"Timesteps_CAM.npy\"), np.array(ts_camera2d_all, dtype=object))\n",
    "np.save(os.path.join(path_results, \"Sequences_filter.npy\"), np.array(seq_filter, dtype=object))\n",
    "np.save(os.path.join(path_results, \"Sequences_names.npy\"), np.array(seq_names, dtype=object))\n",
    "print(f\"Saved successfully to: {path_results}\")"
   ]
  },
  {
   "cell_type": "code",
   "execution_count": 16,
   "metadata": {},
   "outputs": [
    {
     "name": "stdout",
     "output_type": "stream",
     "text": [
      "RMSE: 18.9581\n"
     ]
    }
   ],
   "source": [
    "rmse_value3 = np.sqrt(np.mean((qa_kr_all[1] - angle_cam_kr_all[1][:len(qa_kr_all[1])]) ** 2))\n",
    "print(f\"RMSE: {rmse_value3:.4f}\")"
   ]
  }
 ],
 "metadata": {
  "kernelspec": {
   "display_name": "imt",
   "language": "python",
   "name": "python3"
  },
  "language_info": {
   "codemirror_mode": {
    "name": "ipython",
    "version": 3
   },
   "file_extension": ".py",
   "mimetype": "text/x-python",
   "name": "python",
   "nbconvert_exporter": "python",
   "pygments_lexer": "ipython3",
   "version": "3.13.1"
  }
 },
 "nbformat": 4,
 "nbformat_minor": 2
}
