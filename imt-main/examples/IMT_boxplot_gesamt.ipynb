{
 "cells": [
  {
   "cell_type": "code",
   "execution_count": 3,
   "metadata": {},
   "outputs": [],
   "source": [
    "import numpy as np\n",
    "import pandas as pd\n",
    "import matplotlib.pyplot as plt\n",
    "import os\n",
    "from pathlib import Path\n",
    "\n",
    "results_path = \"C:/Users/kubil/Documents/STUDIUM/Master/4_Masterarbeit_Code/IOE-Algo-compare/imt-main/examples/results\" \n",
    "ring_angles_kl = np.load(os.path.join(results_path, \"Angles_IMU_RING_Knee_Left.npy\"), allow_pickle=True)\n",
    "ring_angles_kr = np.load(os.path.join(results_path, \"Angles_IMU_RING_Knee_Right.npy\"), allow_pickle=True)\n",
    "cam_angles_kl = np.load(os.path.join(results_path, \"Angles_CAM_Knee_Left.npy\"), allow_pickle=True)\n",
    "cam_angles_kr = np.load(os.path.join(results_path, \"Angles_CAM_Knee_Right.npy\"), allow_pickle=True)\n",
    "folder_data_imu = \"C:/Users/kubil/Documents/STUDIUM/Master/4_Masterarbeit_Code/IOE-Algo-compare/Daten/Dict_Frames/\"\n",
    "filenames_imu = [f.name for f in Path(folder_data_imu).rglob('*') if f.is_file()]  # all filnames in array\n",
    "seq_filter = np.load(os.path.join(results_path, \"Sequences_filter.npy\"), allow_pickle=True)\n",
    "seq_names = np.load(os.path.join(results_path, \"Sequences_names.npy\"), allow_pickle=True)"
   ]
  },
  {
   "cell_type": "code",
   "execution_count": 7,
   "metadata": {},
   "outputs": [
    {
     "data": {
      "text/plain": [
       "array([], dtype=float64)"
      ]
     },
     "execution_count": 7,
     "metadata": {},
     "output_type": "execute_result"
    }
   ],
   "source": [
    "x = np.empty(0)\n",
    "x"
   ]
  },
  {
   "cell_type": "code",
   "execution_count": 17,
   "metadata": {},
   "outputs": [],
   "source": [
    "ring_kl_all = []\n",
    "ring_kr_all = []\n",
    "cam_kl_all = []\n",
    "cam_kr_all = []\n",
    "\n",
    "for i in range(len(ring_angles_kl)):\n",
    "    if seq_names[i] not in seq_filter:\n",
    "        ring_kl_all = np.hstack((ring_kl_all, ring_angles_kl[i]))\n",
    "        ring_kr_all = np.hstack((ring_kr_all, ring_angles_kr[i]))\n",
    "        cam_kl_all = np.hstack((cam_kl_all, cam_angles_kl[i]))\n",
    "        cam_kr_all = np.hstack((cam_kr_all, cam_angles_kr[i]))\n"
   ]
  },
  {
   "cell_type": "code",
   "execution_count": null,
   "metadata": {},
   "outputs": [],
   "source": [
    "if len(cam_kl_all) > len(ring_kl_all):\n",
    "    smoothed_arr = pd.Series(cam_kl_all).rolling(window=100, center=True).mean().to_numpy()\n",
    "    smoothed_arr2 = pd.Series(cam_kl_all[:len(ring_kl_all)]).rolling(window=100, center=True, min_periods=1).mean().to_numpy()\n",
    "    imu_to_camera2d_diff = smoothed_arr - smoothed_arr2\n",
    "else:\n",
    "    smoothed_arr = pd.Series(ring_kl_all[:len(cam_kl_all)]).rolling(window=100, center=True).mean().to_numpy()\n",
    "    smoothed_arr2 = pd.Series(cam_kl_all).rolling(window=100, center=True, min_periods=1).mean().to_numpy()\n",
    "    imu_to_camera2d_diff = smoothed_arr - smoothed_arr2\n",
    "\n",
    "if len(cam_kr_all) > len(ring_kr_all):\n",
    "    smoothed_arr3 = pd.Series(ring_kr_all).rolling(window=100, center=True).mean().to_numpy()\n",
    "    smoothed_arr4 = pd.Series(cam_kr_all[:len(ring_kr_all)]).rolling(window=100, center=True, min_periods=1).mean().to_numpy()\n",
    "    imu_to_camera2d_diff2 = smoothed_arr3 - smoothed_arr4\n",
    "else:\n",
    "    smoothed_arr3 = pd.Series(ring_kr_all[:len(cam_kr_all)]).rolling(window=100, center=True).mean().to_numpy()\n",
    "    smoothed_arr4 = pd.Series(cam_kr_all).rolling(window=100, center=True, min_periods=1).mean().to_numpy()\n",
    "    imu_to_camera2d_diff2 = smoothed_arr3 - smoothed_arr4\n",
    "\n",
    "\n",
    "        \n",
    "ylim_min=min(min(imu_to_camera2d_diff[~np.isnan(imu_to_camera2d_diff)]),min(imu_to_camera2d_diff2[~np.isnan(imu_to_camera2d_diff2)]))-20\n",
    "ylim_max=max(max(imu_to_camera2d_diff[~np.isnan(imu_to_camera2d_diff)]),max(imu_to_camera2d_diff2[~np.isnan(imu_to_camera2d_diff2)]))+20\n"
   ]
  },
  {
   "cell_type": "code",
   "execution_count": 25,
   "metadata": {},
   "outputs": [
    {
     "data": {
      "text/plain": [
       "1"
      ]
     },
     "execution_count": 25,
     "metadata": {},
     "output_type": "execute_result"
    }
   ],
   "source": [
    "np.ndim(imu_to_camera2d_diff)"
   ]
  },
  {
   "cell_type": "code",
   "execution_count": 33,
   "metadata": {},
   "outputs": [
    {
     "data": {
      "image/png": "[encoded data removed]",
      "text/plain": [
       "<Figure size 2000x400 with 2 Axes>"
      ]
     },
     "metadata": {},
     "output_type": "display_data"
    }
   ],
   "source": [
    "# Erstellen des Plots mit 1x2 Subplots\n",
    "fig, axes = plt.subplots(1, 2, figsize=(20, 4))\n",
    "\n",
    "# Boxplots in einzelnen Subplots\n",
    "# Boxplot linkes Knie\n",
    "axes[0].boxplot(imu_to_camera2d_diff[~np.isnan(imu_to_camera2d_diff)])\n",
    "axes[0].set_title(\"linkes Knie \")\n",
    "axes[0].set_ylabel(\"Knee Angle [deg]\")\n",
    "axes[0].set_ylim(ylim_min,ylim_max)\n",
    "axes[0].get_xaxis().set_visible(False)\n",
    "\n",
    "# Boxplot rechtes Knie\n",
    "axes[1].boxplot(imu_to_camera2d_diff2[~np.isnan(imu_to_camera2d_diff2)])\n",
    "axes[1].set_title(\"rechtes Knie \")\n",
    "axes[1].set_ylabel(\"Knee Angle [deg]\")\n",
    "axes[1].set_ylim(ylim_min,ylim_max)\n",
    "axes[1].get_xaxis().set_visible(False)\n"
   ]
  }
 ],
 "metadata": {
  "kernelspec": {
   "display_name": "imt",
   "language": "python",
   "name": "python3"
  },
  "language_info": {
   "codemirror_mode": {
    "name": "ipython",
    "version": 3
   },
   "file_extension": ".py",
   "mimetype": "text/x-python",
   "name": "python",
   "nbconvert_exporter": "python",
   "pygments_lexer": "ipython3",
   "version": "3.13.1"
  }
 },
 "nbformat": 4,
 "nbformat_minor": 2
}
