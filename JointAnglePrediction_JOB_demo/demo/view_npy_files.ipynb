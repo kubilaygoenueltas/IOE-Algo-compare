{
 "cells": [
  {
   "cell_type": "code",
   "execution_count": 1,
   "metadata": {},
   "outputs": [],
   "source": [
    "import numpy as np\n",
    "import pandas as pd\n"
   ]
  },
  {
   "cell_type": "code",
   "execution_count": 29,
   "metadata": {},
   "outputs": [],
   "source": [
    "\n",
    "file = \"C:/Users/kubil/Documents/STUDIUM/Master/4_Masterarbeit_Code/IOE-Algo-compare/JointAnglePrediction_JOB_demo/demo/data/Walking/Knee_angle.npy\"\n",
    "data = np.load(file, allow_pickle=True)\n",
    "data_knee_angle = data[0]"
   ]
  },
  {
   "cell_type": "code",
   "execution_count": 18,
   "metadata": {},
   "outputs": [],
   "source": [
    "file = \"C:/Users/kubil/Documents/STUDIUM/Master/4_Masterarbeit_Code/IOE-Algo-compare/JointAnglePrediction_JOB_demo/demo/data/Walking/thigh_acc.npy\"\n",
    "data = np.load(file, allow_pickle=True)\n",
    "data = data[0]\n"
   ]
  },
  {
   "cell_type": "code",
   "execution_count": 27,
   "metadata": {},
   "outputs": [],
   "source": [
    "file = \"C:/Users/kubil/Documents/STUDIUM/Master/4_Masterarbeit_Code/IOE-Algo-compare/Daten/IMU/Dict_Frames/S0133_dict_frame.npy\"\n",
    "data33 = np.load(file, allow_pickle=True).item()\n",
    "data33 = data33#[0]\n",
    "data33_thigh_right = data33['S1094']\n",
    "data33_thigh_right_acc = data33_thigh_right['acc'].reshape(1, len(data33_thigh_right['acc']), 3)"
   ]
  }
 ],
 "metadata": {
  "kernelspec": {
   "display_name": "job",
   "language": "python",
   "name": "python3"
  },
  "language_info": {
   "codemirror_mode": {
    "name": "ipython",
    "version": 3
   },
   "file_extension": ".py",
   "mimetype": "text/x-python",
   "name": "python",
   "nbconvert_exporter": "python",
   "pygments_lexer": "ipython3",
   "version": "3.12.9"
  }
 },
 "nbformat": 4,
 "nbformat_minor": 2
}
