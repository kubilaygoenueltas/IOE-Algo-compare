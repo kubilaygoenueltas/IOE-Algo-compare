{
 "cells": [
  {
   "cell_type": "code",
   "execution_count": 2,
   "id": "5b49fa77",
   "metadata": {},
   "outputs": [],
   "source": [
    "import numpy as np\n",
    "from sklearn.linear_model import LogisticRegression\n",
    "from sklearn.model_selection import StratifiedGroupKFold\n",
    "from sklearn.metrics import balanced_accuracy_score\n",
    "import os"
   ]
  },
  {
   "cell_type": "code",
   "execution_count": null,
   "id": "a68c4dcf",
   "metadata": {},
   "outputs": [],
   "source": [
    "# Load knee angle data\n",
    "results_path_knee_angle = \"C:/Users/kubil/Documents/STUDIUM/Master/4_Masterarbeit_Code/IOE-Algo-compare/imt-main/examples/results\"\n",
    "ring_angles_kl = np.load(os.path.join(results_path_knee_angle, \"Angles_IMU_RING_Knee_Left.npy\"), allow_pickle=True)\n",
    "ring_angles_kr = np.load(os.path.join(results_path_knee_angle, \"Angles_IMU_RING_Knee_Right.npy\"), allow_pickle=True)\n",
    "\n",
    "# Load labels\n",
    "results_path_label = \"C:/Users/kubil/Documents/STUDIUM/Master/4_Masterarbeit_Code/IOE-Algo-compare/Klassifikation/results\"\n",
    "labels_extendedLeg_100 = np.load(os.path.join(results_path_label, \"labels_extendedLeg_RING_100.npy\"), allow_pickle=True)\n",
    "labels_stiffMovement_100 = np.load(os.path.join(results_path_label, \"labels_stiffMovement_RING_100.npy\"), allow_pickle=True)\n",
    "\n",
    "# Choose which label to use\n",
    "y_stiffMovement = [entry['behavior_label'] for entry in labels_stiffMovement_100]\n",
    "# y_extendedLeg = [entry['behavior_label_5s'] for entry in labels_extendedLeg_100]"
   ]
  },
  {
   "cell_type": "code",
   "execution_count": null,
   "id": "2d0196da",
   "metadata": {},
   "outputs": [],
   "source": [
    "X = []\n",
    "y = []\n",
    "groups = []\n",
    "\n",
    "for i in range(52):\n",
    "    left = ring_angles_kl[i]\n",
    "    right = ring_angles_kr[i]\n",
    "    label = y_stiffMovement[i]\n",
    "    #label = y_extendedLeg[i]\n",
    "\n",
    "    if len(left) == len(right) == len(label):\n",
    "        X.append(np.column_stack([left, right]))  # shape (n_i, 2)\n",
    "        y.append(label)                           # shape (n_i,)\n",
    "        group_id = i // 2                         # every 2 datasets form one group\n",
    "        groups.extend([group_id] * len(label))\n",
    "    else:\n",
    "        print(f\"Skipping dataset {i} due to length mismatch.\")\n",
    "\n",
    "# Final stacked arrays\n",
    "X = np.vstack(X)            # shape (total_samples, 2)\n",
    "y = np.concatenate(y)       # shape (total_samples,)\n",
    "groups = np.array(groups)   # shape (total_samples,)\n",
    "\n",
    "# Check consistency\n",
    "print(f\"X shape: {X.shape}, y shape: {y.shape}, groups shape: {groups.shape}\")\n",
    "\n",
    "# Initialize classifier\n",
    "clf = LogisticRegression(\n",
    "    class_weight='balanced',\n",
    "    random_state=1,\n",
    "    max_iter=1000\n",
    ")\n",
    "\n",
    "# StratifiedGroupKFold CV\n",
    "cv = StratifiedGroupKFold(n_splits=5, shuffle=True, random_state=1)\n",
    "\n",
    "# Cross-validation loop\n",
    "scores = []\n",
    "for train_idx, test_idx in cv.split(X, y, groups):\n",
    "    X_train, X_test = X[train_idx], X[test_idx]\n",
    "    y_train, y_test = y[train_idx], y[test_idx]\n",
    "\n",
    "    clf.fit(X_train, y_train)\n",
    "    y_pred = clf.predict(X_test)\n",
    "\n",
    "    score = balanced_accuracy_score(y_test, y_pred)\n",
    "    scores.append(score)\n",
    "\n",
    "# Output results\n",
    "print(\"Balanced Accuracy Scores:\", scores)\n",
    "print(\"Mean Balanced Accuracy:\", np.mean(scores))\n"
   ]
  }
 ],
 "metadata": {
  "kernelspec": {
   "display_name": "sklearn",
   "language": "python",
   "name": "python3"
  },
  "language_info": {
   "codemirror_mode": {
    "name": "ipython",
    "version": 3
   },
   "file_extension": ".py",
   "mimetype": "text/x-python",
   "name": "python",
   "nbconvert_exporter": "python",
   "pygments_lexer": "ipython3",
   "version": "3.12.9"
  }
 },
 "nbformat": 4,
 "nbformat_minor": 5
}
