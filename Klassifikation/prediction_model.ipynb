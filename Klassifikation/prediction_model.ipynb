{
 "cells": [
  {
   "cell_type": "code",
   "execution_count": 1,
   "id": "339c7478",
   "metadata": {},
   "outputs": [],
   "source": [
    "import pandas as pd\n",
    "import numpy as np\n",
    "from sklearn.linear_model import LinearRegression\n",
    "from sklearn.metrics import accuracy_score\n",
    "from sklearn.model_selection import train_test_split\n",
    "import matplotlib.pyplot as plt"
   ]
  },
  {
   "cell_type": "code",
   "execution_count": null,
   "id": "9c3cda16",
   "metadata": {},
   "outputs": [],
   "source": [
    "# Load your data\n",
    "# df = pd.read_excel(\"your_file.xlsx\")\n",
    "# Simulated structure based on your screenshot:\n",
    "df = pd.DataFrame({\n",
    "    'behavior_extendedLeg': [...],  # video-labeled binary list\n",
    "    'samples_IMU': [...],           # index of IMU samples\n",
    "    'left_Knee_Angle': [...]        # corresponding IMU angle\n",
    "})"
   ]
  },
  {
   "cell_type": "code",
   "execution_count": null,
   "id": "436831e4",
   "metadata": {},
   "outputs": [],
   "source": [
    "# === STEP 1: Align video labels (30 fps) with IMU samples (52 Hz) ===\n",
    "\n",
    "# Video FPS and IMU rate\n",
    "fps_video = 30\n",
    "imu_rate = 52\n",
    "\n",
    "# Compute time arrays\n",
    "num_imu = df['samples_IMU'].max() + 1\n",
    "imu_time = np.arange(num_imu) / imu_rate\n",
    "video_time = np.arange(len(df['behavior_extendedLeg'])) / fps_video\n",
    "\n",
    "# Interpolate video labels to match IMU timestamps\n",
    "label_interp = np.interp(imu_time, video_time, df['behavior_extendedLeg'])\n",
    "\n",
    "# Binary classification: apply 0.5 threshold\n",
    "label_binary = (label_interp > 0.5).astype(int)\n",
    "\n",
    "# Get angle data\n",
    "knee_angle = df['left_Knee_Angle'].values\n",
    "\n",
    "# Match sizes if needed\n",
    "X = knee_angle[:len(label_binary)].reshape(-1, 1)\n",
    "y = label_binary[:len(knee_angle)]"
   ]
  },
  {
   "cell_type": "code",
   "execution_count": null,
   "id": "0550945d",
   "metadata": {},
   "outputs": [],
   "source": [
    "# Train-test split\n",
    "X_train, X_test, y_train, y_test = train_test_split(X, y, test_size=0.2, random_state=42)"
   ]
  },
  {
   "cell_type": "code",
   "execution_count": null,
   "id": "2abe9f58",
   "metadata": {},
   "outputs": [],
   "source": [
    "# Linear regression model\n",
    "model = LinearRegression()\n",
    "model.fit(X_train, y_train)\n",
    "\n",
    "# Prediction\n",
    "y_pred_cont = model.predict(X_test)\n",
    "# convert binary\n",
    "y_pred = (y_pred_cont > 0.5).astype(int)"
   ]
  },
  {
   "cell_type": "code",
   "execution_count": null,
   "id": "5f461568",
   "metadata": {},
   "outputs": [],
   "source": [
    "# Genaigkeit\n",
    "acc = accuracy_score(y_test, y_pred)\n",
    "print(f\"Classification accuracy: {acc:.2f}\")"
   ]
  },
  {
   "cell_type": "code",
   "execution_count": null,
   "id": "a68c6529",
   "metadata": {},
   "outputs": [],
   "source": [
    "plt.scatter(X_test, y_test, color='blue', label='True Label')\n",
    "plt.scatter(X_test, y_pred, color='red', marker='x', label='Predicted')\n",
    "plt.xlabel(\"Left Knee Angle\")\n",
    "plt.ylabel(\"Extended Leg (0/1)\")\n",
    "plt.title(\"Prediction vs Ground Truth\")\n",
    "plt.legend()\n",
    "plt.grid()\n",
    "plt.show()"
   ]
  }
 ],
 "metadata": {
  "kernelspec": {
   "display_name": "sklearn",
   "language": "python",
   "name": "python3"
  },
  "language_info": {
   "codemirror_mode": {
    "name": "ipython",
    "version": 3
   },
   "file_extension": ".py",
   "mimetype": "text/x-python",
   "name": "python",
   "nbconvert_exporter": "python",
   "pygments_lexer": "ipython3",
   "version": "3.12.9"
  }
 },
 "nbformat": 4,
 "nbformat_minor": 5
}
